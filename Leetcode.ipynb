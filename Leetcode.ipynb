{
 "cells": [
  {
   "cell_type": "markdown",
   "metadata": {
    "colab_type": "text",
    "id": "view-in-github"
   },
   "source": [
    "<a href=\"https://colab.research.google.com/github/CMU-MS-DAS-Modern-Programming-Mini/python-leetcode/blob/main/Leetcode.ipynb\" target=\"_parent\"><img src=\"https://colab.research.google.com/assets/colab-badge.svg\" alt=\"Open In Colab\"/></a>"
   ]
  },
  {
   "cell_type": "markdown",
   "metadata": {
    "id": "br3zmBgGvqi6"
   },
   "source": [
    "<img src=\"https://external-content.duckduckgo.com/iu/?u=https%3A%2F%2Fcdn-images-1.medium.com%2Fmax%2F1600%2F0*GePc7lo4CF4A3guP.png&f=1&nofb=1\" width=\"50%\" />\n",
    "\n",
    "Name: Saksham Sarwari\n",
    "\n",
    "Andrew ID: ssarwari\n",
    "\n",
    "Use any library in Python Standard Library or any other library in PyPI to solve these LeetCode problems.\n",
    "\n",
    "Unlike Leetcode, our testing is limited so make "
   ]
  },
  {
   "cell_type": "markdown",
   "metadata": {
    "id": "0rEeYXq-vuIP"
   },
   "source": [
    "## Container With Most Water\n",
    "Solve the Leetcode problem described [here](https://leetcode.com/problems/container-with-most-water/)."
   ]
  },
  {
   "cell_type": "code",
   "execution_count": 2,
   "metadata": {
    "id": "cMRgbcLGvuRm"
   },
   "outputs": [],
   "source": [
    "# INSERT CODE HERE\n",
    "def maxArea(height):\n",
    "    \"\"\"\n",
    "    :type height: list[int]\n",
    "    :rtype: int\n",
    "    \"\"\"\n",
    "    maxx = 0\n",
    "    distt=len(height)-1\n",
    "    \n",
    "    l = 0\n",
    "    r = len(height)-1\n",
    "        \n",
    "    while l < r:\n",
    "        curr = distt * min(height[l],height[r])\n",
    "        if maxx < curr:\n",
    "            maxx = curr\n",
    "        if height[l] < height[r]:\n",
    "            l+=1\n",
    "        else:\n",
    "            r-=1\n",
    "        distt-=1\n",
    "\n",
    "    return maxx\n",
    "\n",
    "    #raise NotImplementedError()\n",
    "\n",
    "height = [1,8,6,2,5,4,8,3,7]\n",
    "assert maxArea(height) == 49\n",
    "\n",
    "height = [1,1]\n",
    "assert maxArea(height) == 1"
   ]
  },
  {
   "cell_type": "markdown",
   "metadata": {
    "id": "SnUDycLFvuYm"
   },
   "source": [
    "## Reverse Integer\n",
    "Solve the Leetcode problem described [here](https://leetcode.com/problems/reverse-integer/)."
   ]
  },
  {
   "cell_type": "code",
   "execution_count": 4,
   "metadata": {
    "id": "Wp15mhB1vuee"
   },
   "outputs": [],
   "source": [
    "# INSERT CODE HERE\n",
    "def reverse(x):\n",
    "    \"\"\"\n",
    "    :type x: int\n",
    "    :rtype: int\n",
    "    \"\"\"\n",
    "    n = range(-2 ** 31, 2 ** 31 - 1)\n",
    "    if x<0:\n",
    "        tmp=-1\n",
    "    else:\n",
    "        tmp=1\n",
    "      \n",
    "    a = str(x*tmp)  \n",
    "    rev = a[::-1]   \n",
    "    z = tmp * int(rev)    \n",
    "    if x and z in n:\n",
    "        return z\n",
    "    else:\n",
    "        return 0\n",
    "\n",
    "    #raise NotImplementedError()\n",
    "\n",
    "x = 123\n",
    "assert reverse(x) == 321\n",
    "\n",
    "x = -123\n",
    "assert reverse(x) == -321\n",
    "\n",
    "x = 120\n",
    "assert reverse(x) == 21"
   ]
  },
  {
   "cell_type": "code",
   "execution_count": null,
   "metadata": {},
   "outputs": [],
   "source": []
  }
 ],
 "metadata": {
  "colab": {
   "authorship_tag": "ABX9TyNqKfz4t9ne+Hzj6YFR+zPc",
   "include_colab_link": true,
   "provenance": []
  },
  "kernelspec": {
   "display_name": "Python 3 (ipykernel)",
   "language": "python",
   "name": "python3"
  },
  "language_info": {
   "codemirror_mode": {
    "name": "ipython",
    "version": 3
   },
   "file_extension": ".py",
   "mimetype": "text/x-python",
   "name": "python",
   "nbconvert_exporter": "python",
   "pygments_lexer": "ipython3",
   "version": "3.9.13"
  }
 },
 "nbformat": 4,
 "nbformat_minor": 1
}
